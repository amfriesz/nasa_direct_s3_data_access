{
 "cells": [
  {
   "cell_type": "code",
   "execution_count": null,
   "id": "unauthorized-feeling",
   "metadata": {},
   "outputs": [],
   "source": [
    "import requests"
   ]
  },
  {
   "cell_type": "code",
   "execution_count": null,
   "id": "bored-probability",
   "metadata": {},
   "outputs": [],
   "source": [
    "def get_temp_creds():\n",
    "    temp_creds_url = 'https://lpdaac.earthdata.nasa.gov/s3credentials'\n",
    "    return requests.get(temp_creds_url).json()"
   ]
  },
  {
   "cell_type": "code",
   "execution_count": null,
   "id": "agreed-starter",
   "metadata": {},
   "outputs": [],
   "source": [
    "temp_creds_req = get_temp_creds()"
   ]
  },
  {
   "cell_type": "code",
   "execution_count": null,
   "id": "expected-century",
   "metadata": {},
   "outputs": [],
   "source": [
    "#temp_creds_req"
   ]
  },
  {
   "cell_type": "code",
   "execution_count": null,
   "id": "duplicate-corrections",
   "metadata": {},
   "outputs": [],
   "source": [
    "asset = '/vsis3/lp-prod-protected/HLSS30.015/HLS.S30.T10TEK.2020190T184919.v1.5.B02.tif'"
   ]
  },
  {
   "cell_type": "code",
   "execution_count": null,
   "id": "industrial-arthritis",
   "metadata": {},
   "outputs": [],
   "source": [
    "aws_region = f\"--config AWS_REGION us-west-2\"\n",
    "aws_no_sign = f\"--config AWS_NO_SIGN_REQUEST=YES\"\n",
    "aws_access_id = f\"--config AWS_ACCESS_KEY_ID {temp_creds_req['accessKeyId']}\"\n",
    "aws_secret_key = f\"--config AWS_SECRET_ACCESS_KEY {temp_creds_req['secretAccessKey']}\"\n",
    "aws_token = f\"--config AWS_SESSION_TOKEN {temp_creds_req['sessionToken']}\"\n",
    "aws_endpoint = f\"--config AWS_S3_ENDPOINT s3-us-west-2.amazonaws.com\""
   ]
  },
  {
   "cell_type": "code",
   "execution_count": null,
   "id": "handed-charlotte",
   "metadata": {},
   "outputs": [],
   "source": [
    "gdalinfo_string = f'gdalinfo {asset} {aws_access_id} {aws_secret_key} {aws_token} --config GDAL_DISABLE_READDIR_ON_OPEN YES'\n",
    "gdalinfo_string"
   ]
  },
  {
   "cell_type": "markdown",
   "id": "tested-matter",
   "metadata": {},
   "source": [
    "### Replace the gdalinfo command below with the string above"
   ]
  },
  {
   "cell_type": "code",
   "execution_count": null,
   "id": "trying-proportion",
   "metadata": {},
   "outputs": [],
   "source": [
    "!gdalinfo <insert gdalinfo_string>"
   ]
  }
 ],
 "metadata": {
  "kernelspec": {
   "display_name": "Python [conda env:pangeo] *",
   "language": "python",
   "name": "conda-env-pangeo-py"
  },
  "language_info": {
   "codemirror_mode": {
    "name": "ipython",
    "version": 3
   },
   "file_extension": ".py",
   "mimetype": "text/x-python",
   "name": "python",
   "nbconvert_exporter": "python",
   "pygments_lexer": "ipython3",
   "version": "3.7.10"
  }
 },
 "nbformat": 4,
 "nbformat_minor": 5
}
